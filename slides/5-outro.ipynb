{
 "cells": [
  {
   "cell_type": "markdown",
   "id": "d8eb612f-36d3-4935-ac0d-fb22911881d4",
   "metadata": {
    "slideshow": {
     "slide_type": "slide"
    },
    "tags": [
     "id_related-content"
    ]
   },
   "source": [
    "# Related content\n",
    "\n",
    "*All examples herein were developed exclusively for this workshop &ndash; check out [Hands-On Data Analysis with Pandas](https://www.amazon.com/Hands-Data-Analysis-Pandas-visualization-dp-1800563450/dp/1800563450/) and my [Beyond the Basics: Data Visualization in Python](https://stefaniemolin.com/workshops/python-data-viz-workshop/) workshop for more.*\n",
    "\n",
    "<div style=\"text-align: center;\">\n",
    "    <img width=\"20%\" src=\"media/pandas_drawing.png\" style=\"min-width: 200px\">\n",
    "    <div><small>\n",
    "        <a href=\"https://stefaniemolin.com\">stefaniemolin.com</a>\n",
    "    </small></div>\n",
    "</div>"
   ]
  },
  {
   "cell_type": "markdown",
   "id": "cd8d474a-0d3a-4387-b726-dea2df655ce1",
   "metadata": {
    "slideshow": {
     "slide_type": "slide"
    },
    "tags": [
     "id_fin"
    ]
   },
   "source": [
    "# Thank you!\n",
    "\n",
    "*I hope you enjoyed the session. You can follow my work on these platforms:*\n",
    "\n",
    "<div style=\"display: flex; justify-content: space-between; align-items: center;\">\n",
    "  <div style=\"text-align: center; flex-basis: auto; flex-shrink: 2; margin-bottom: -25px\">\n",
    "    <a href=\"https://stefaniemolin.com/feedback\" target=\"_blank\">\n",
    "      <img\n",
    "        width=\"20%\"\n",
    "        alt=\"Please visit https://stefaniemolin.com/feedback to provide your feedback on this session.\"\n",
    "        title=\"QR code to submit feedback (leads to https://stefaniemolin.com/feedback)\"\n",
    "        class=\"qr-code\"\n",
    "        src=\"media/qr-code.png\"\n",
    "      />\n",
    "    </a>\n",
    "  </div>\n",
    "  <div style=\"flex-basis: 45em; flex-grow: 2; font-size: 75%;\">\n",
    "    <div style=\"display: flex\">\n",
    "      <i class=\"fa fa-globe fa-2x fa-fw\" style=\"padding-right: 4px; margin: auto 0;\"></i>\n",
    "      <a href=\"https://stefaniemolin.com\" rel=\"noopener noreferrer\" style=\"font-size: 2em;\">\n",
    "        stefaniemolin.com\n",
    "      </a>\n",
    "    </div>\n",
    "    <div style=\"display: flex\">\n",
    "      <i class=\"fab fa-github fa-2x fa-fw\" style=\"padding-right: 4px; margin: auto 0;\"></i>\n",
    "      <a href=\"https://github.com/stefmolin\" rel=\"noopener noreferrer\" style=\"font-size: 2em;\" target=\"_blank\">\n",
    "        github.com/stefmolin\n",
    "      </a>\n",
    "    </div>\n",
    "    <div style=\"display: flex\">\n",
    "      <i class=\"fa-brands fa-bluesky fa-2x fa-fw\" style=\"padding-right: 4px; margin: auto 0;\"></i>\n",
    "      <a href=\"https://bsky.app/profile/stefaniemolin.com\" rel=\"noopener noreferrer\" style=\"font-size: 2em;\" target=\"_blank\">\n",
    "        bsky.app/profile/stefaniemolin.com\n",
    "      </a>\n",
    "    </div>\n",
    "    <div style=\"display: flex\">\n",
    "      <i class=\"fab fa-twitter fa-2x fa-fw\" style=\"padding-right: 4px; margin: auto 0;\"></i>\n",
    "      <a href=\"https://x.com/StefanieMolin\" rel=\"noopener noreferrer\" style=\"font-size: 2em;\" target=\"_blank\">\n",
    "        x.com/StefanieMolin\n",
    "      </a>\n",
    "    </div>\n",
    "    <div style=\"display: flex\">\n",
    "      <i class=\"fab fa-linkedin-in fa-2x fa-fw\" style=\"padding-right: 4px; margin: auto 0;\"></i>\n",
    "      <a href=\"https://linkedin.com/in/stefanie-molin\" rel=\"noopener noreferrer\" style=\"font-size: 2em;\" target=\"_blank\">\n",
    "        linkedin.com/in/stefanie-molin\n",
    "      </a>\n",
    "    </div>\n",
    "  </div>\n",
    "</div>"
   ]
  }
 ],
 "metadata": {
  "kernelspec": {
   "display_name": "Python 3 (ipykernel)",
   "language": "python",
   "name": "python3"
  },
  "language_info": {
   "codemirror_mode": {
    "name": "ipython",
    "version": 3
   },
   "file_extension": ".py",
   "mimetype": "text/x-python",
   "name": "python",
   "nbconvert_exporter": "python",
   "pygments_lexer": "ipython3",
   "version": "3.13.3"
  }
 },
 "nbformat": 4,
 "nbformat_minor": 5
}
