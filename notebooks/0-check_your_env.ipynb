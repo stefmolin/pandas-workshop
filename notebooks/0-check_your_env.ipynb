{
 "cells": [
  {
   "cell_type": "markdown",
   "metadata": {},
   "source": [
    "# Checking your setup\n",
    "Run through this notebook to make sure your environment is properly setup. Be sure to launch Jupyter from inside the virtual environment."
   ]
  },
  {
   "cell_type": "code",
   "execution_count": 16,
   "metadata": {},
   "outputs": [
    {
     "name": "stdout",
     "output_type": "stream",
     "text": [
      "\u001b[42m[ OK ]\u001b[0m Python\n",
      "\u001b[42m[ OK ]\u001b[0m jupyterlab\n",
      "\u001b[41m[FAIL]\u001b[0m matplotlib version 3.8.4 is required, but 3.9.1 installed.\n",
      "\u001b[41m[FAIL]\u001b[0m numpy version 2.0.0 is required, but 1.26.4 installed.\n",
      "\u001b[41m[FAIL]\u001b[0m pandas version 2.2.2 is required, but 2.1.4 installed.\n",
      "\u001b[42m[ OK ]\u001b[0m requests\n",
      "\u001b[42m[ OK ]\u001b[0m seaborn\n"
     ]
    }
   ],
   "source": [
    "from check_env import run_env_check\n",
    "run_env_check()"
   ]
  },
  {
   "cell_type": "markdown",
   "metadata": {},
   "source": [
    "*Note: Adapted from Andreas Mueller's [`check_env.ipynb` notebook](https://github.com/amueller/ml-workshop-1-of-4/blob/master/check_env.ipynb).*"
   ]
  }
 ],
 "metadata": {
  "kernelspec": {
   "display_name": "Python 3 (ipykernel)",
   "language": "python",
   "name": "python3"
  },
  "language_info": {
   "codemirror_mode": {
    "name": "ipython",
    "version": 3
   },
   "file_extension": ".py",
   "mimetype": "text/x-python",
   "name": "python",
   "nbconvert_exporter": "python",
   "pygments_lexer": "ipython3",
   "version": "3.10.12"
  }
 },
 "nbformat": 4,
 "nbformat_minor": 4
}
